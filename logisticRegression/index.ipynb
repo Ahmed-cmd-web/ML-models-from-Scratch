{
 "cells": [
  {
   "cell_type": "code",
   "execution_count": 1,
   "metadata": {},
   "outputs": [
    {
     "data": {
      "text/plain": [
       "0.9298245614035088"
      ]
     },
     "execution_count": 1,
     "metadata": {},
     "output_type": "execute_result"
    }
   ],
   "source": [
    "from sklearn.datasets import load_breast_cancer\n",
    "from LogisticRegression import LogisticRegression\n",
    "from sklearn.model_selection import train_test_split\n",
    "from sklearn.metrics import accuracy_score\n",
    "\n",
    "bc=load_breast_cancer()\n",
    "X,y=bc.data,bc.target\n",
    "\n",
    "xt,xtt,yt,ytt=train_test_split(X,y,test_size=0.2,random_state=1234)\n",
    "\n",
    "\n",
    "\n",
    "lr=LogisticRegression(lr=0.0001)\n",
    "\n",
    "\n",
    "lr.fit(xt,yt)\n",
    "\n",
    "preds=lr.predict(xtt)\n",
    "\n",
    "\n",
    "accuracy_score(ytt,preds)\n"
   ]
  }
 ],
 "metadata": {
  "kernelspec": {
   "display_name": "v0",
   "language": "python",
   "name": "python3"
  },
  "language_info": {
   "codemirror_mode": {
    "name": "ipython",
    "version": 3
   },
   "file_extension": ".py",
   "mimetype": "text/x-python",
   "name": "python",
   "nbconvert_exporter": "python",
   "pygments_lexer": "ipython3",
   "version": "3.9.13"
  }
 },
 "nbformat": 4,
 "nbformat_minor": 2
}
