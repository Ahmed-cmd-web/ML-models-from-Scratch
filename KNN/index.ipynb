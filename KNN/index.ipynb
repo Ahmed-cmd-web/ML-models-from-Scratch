{
 "cells": [
  {
   "cell_type": "code",
   "execution_count": 3,
   "metadata": {},
   "outputs": [
    {
     "data": {
      "text/plain": [
       "0.9666666666666667"
      ]
     },
     "execution_count": 3,
     "metadata": {},
     "output_type": "execute_result"
    }
   ],
   "source": [
    "from KNN import KNN\n",
    "from sklearn.datasets import load_iris\n",
    "from sklearn.model_selection import train_test_split\n",
    "from sklearn.metrics import accuracy_score\n",
    "\n",
    "\n",
    "data=load_iris()\n",
    "X,y=data.data,data.target\n",
    "\n",
    "xt,xtt,yt,ytt=train_test_split(X,y,test_size=0.2,random_state=1234)\n",
    "\n",
    "\n",
    "clf=KNN(type='C',K=5)\n",
    "\n",
    "clf.fit(xt,yt)\n",
    "\n",
    "\n",
    "predictions=clf.predict(xtt)\n",
    "\n",
    "accuracy_score(ytt,predictions)\n"
   ]
  }
 ],
 "metadata": {
  "kernelspec": {
   "display_name": "v0",
   "language": "python",
   "name": "python3"
  },
  "language_info": {
   "codemirror_mode": {
    "name": "ipython",
    "version": 3
   },
   "file_extension": ".py",
   "mimetype": "text/x-python",
   "name": "python",
   "nbconvert_exporter": "python",
   "pygments_lexer": "ipython3",
   "version": "3.9.13"
  }
 },
 "nbformat": 4,
 "nbformat_minor": 2
}
